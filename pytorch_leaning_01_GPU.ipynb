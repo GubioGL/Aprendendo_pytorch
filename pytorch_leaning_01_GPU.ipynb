{
  "nbformat": 4,
  "nbformat_minor": 0,
  "metadata": {
    "colab": {
      "provenance": [],
      "gpuType": "T4",
      "authorship_tag": "ABX9TyMqnEiYdrq6f71BbvJ7i36B",
      "include_colab_link": true
    },
    "kernelspec": {
      "name": "python3",
      "display_name": "Python 3"
    },
    "language_info": {
      "name": "python"
    },
    "accelerator": "GPU"
  },
  "cells": [
    {
      "cell_type": "markdown",
      "metadata": {
        "id": "view-in-github",
        "colab_type": "text"
      },
      "source": [
        "<a href=\"https://colab.research.google.com/github/GubioGL/Aprendendo_pytorch/blob/main/pytorch_leaning_01_GPU.ipynb\" target=\"_parent\"><img src=\"https://colab.research.google.com/assets/colab-badge.svg\" alt=\"Open In Colab\"/></a>"
      ]
    },
    {
      "cell_type": "code",
      "execution_count": 1,
      "metadata": {
        "id": "0nu6K_S1iO-z"
      },
      "outputs": [],
      "source": [
        "import torch as tc\n",
        "from torch import nn # nn contains all of PyTorch's building blocks for neural networks\n",
        "import matplotlib.pyplot as plt"
      ]
    },
    {
      "cell_type": "code",
      "source": [
        "def fun(a,x_):\n",
        "    return a*x_    #$tc.exp(-a*x_**2)\n",
        "\n",
        "# Criando os dados de treino\n",
        "x_train = tc.linspace(-2,2,10).reshape(10,1)\n",
        "y_train = fun(2,x_train)\n",
        "\n",
        "# Criando os dados de teste\n",
        "x_test = tc.linspace(-2,2,40).reshape(40,1)\n",
        "y_test = fun(2,x_test)\n",
        "\n",
        "# Visualizando os dados de treino\n",
        "\n",
        "plt.plot(x_train,y_train,\"k.\" )\n",
        "plt.plot(x_test,y_test,\"r.\",label=\"test\" )\n",
        "plt.show()"
      ],
      "metadata": {
        "colab": {
          "base_uri": "https://localhost:8080/",
          "height": 430
        },
        "id": "H-VOX-EAiYIv",
        "outputId": "00dd6e40-9647-4e5b-e72f-6eab5a71789c"
      },
      "execution_count": 2,
      "outputs": [
        {
          "output_type": "display_data",
          "data": {
            "text/plain": [
              "<Figure size 640x480 with 1 Axes>"
            ],
            "image/png": "[encoded data removed]"
          },
          "metadata": {}
        }
      ]
    },
    {
      "cell_type": "code",
      "source": [
        "# Construindo o modelo\n",
        "\n",
        "class Regressao(nn.Module):\n",
        "    def __init__(self):\n",
        "        super().__init__()\n",
        "        self.linear_layer = nn.Linear(1,1)\n",
        "    def forward(self, x: tc.Tensor) -> tc.Tensor:\n",
        "        return self.linear_layer(x) #"
      ],
      "metadata": {
        "id": "c3giHPOeib9n"
      },
      "execution_count": 3,
      "outputs": []
    },
    {
      "cell_type": "code",
      "source": [
        "model = Regressao()"
      ],
      "metadata": {
        "id": "JJgllLk2jf0Y"
      },
      "execution_count": 4,
      "outputs": []
    },
    {
      "cell_type": "code",
      "source": [
        "# Check model device\n",
        "next(model.parameters()).device"
      ],
      "metadata": {
        "colab": {
          "base_uri": "https://localhost:8080/"
        },
        "id": "uQWR281piu1_",
        "outputId": "543d6d75-d227-4130-d23e-11ac3a0b305c"
      },
      "execution_count": 5,
      "outputs": [
        {
          "output_type": "execute_result",
          "data": {
            "text/plain": [
              "device(type='cpu')"
            ]
          },
          "metadata": {},
          "execution_count": 5
        }
      ]
    },
    {
      "cell_type": "code",
      "source": [
        "# Configurando GPU\n",
        "model.to( 'cuda') # the device variable was set above to be \"cuda\" if available or \"cpu\" if not\n",
        "next(model.parameters()).device"
      ],
      "metadata": {
        "colab": {
          "base_uri": "https://localhost:8080/"
        },
        "id": "XYvedPmui2DP",
        "outputId": "d9707628-7a6d-4558-91a7-25bb94464062"
      },
      "execution_count": 6,
      "outputs": [
        {
          "output_type": "execute_result",
          "data": {
            "text/plain": [
              "device(type='cuda', index=0)"
            ]
          },
          "metadata": {},
          "execution_count": 6
        }
      ]
    },
    {
      "cell_type": "code",
      "source": [
        "x_train = x_train.to( 'cuda')\n",
        "x_test  = x_test.to(  'cuda')\n",
        "y_train = y_train.to( 'cuda')\n",
        "y_test  = y_test.to(  'cuda')\n",
        "\n",
        "loss_fn = nn.L1Loss()\n",
        "optimizer = tc.optim.SGD(params=model.parameters(),lr=0.01)\n",
        "\n",
        "epochs = 1000\n",
        "for epoch in range(epochs):\n",
        "    model.train()\n",
        "\n",
        "    y_preds = model(x_train)\n",
        "    loss = loss_fn(y_preds, y_train)\n",
        "    optimizer.zero_grad()\n",
        "    loss.backward()\n",
        "    optimizer.step()\n",
        "\n",
        "    model.eval()\n",
        "\n",
        "    with tc.inference_mode():\n",
        "        y_preds_test = model(x_test)\n",
        "        loss_test = loss_fn(y_preds_test,y_test)\n",
        "        if epoch % 100 == 0:\n",
        "            print(f\"Epoch: {epoch} | MAE Train Loss: {loss} | MAE Test Loss: {loss_test} \")\n",
        "\n",
        "\n"
      ],
      "metadata": {
        "colab": {
          "base_uri": "https://localhost:8080/"
        },
        "id": "Rhet-2jzjPF_",
        "outputId": "8a6b02c4-5574-4635-bc75-ea869a82261b"
      },
      "execution_count": 7,
      "outputs": [
        {
          "output_type": "stream",
          "name": "stdout",
          "text": [
            "Epoch: 0 | MAE Train Loss: 2.358814001083374 | MAE Test Loss: 2.183546543121338 \n",
            "Epoch: 100 | MAE Train Loss: 1.1810362339019775 | MAE Test Loss: 1.0853289365768433 \n",
            "Epoch: 200 | MAE Train Loss: 0.08701141923666 | MAE Test Loss: 0.07759565114974976 \n",
            "Epoch: 300 | MAE Train Loss: 0.007660275790840387 | MAE Test Loss: 0.004369075410068035 \n",
            "Epoch: 400 | MAE Train Loss: 0.007660275790840387 | MAE Test Loss: 0.004369075410068035 \n",
            "Epoch: 500 | MAE Train Loss: 0.007660275790840387 | MAE Test Loss: 0.004369075410068035 \n",
            "Epoch: 600 | MAE Train Loss: 0.007660275790840387 | MAE Test Loss: 0.004369075410068035 \n",
            "Epoch: 700 | MAE Train Loss: 0.007660275790840387 | MAE Test Loss: 0.004369075410068035 \n",
            "Epoch: 800 | MAE Train Loss: 0.007660275790840387 | MAE Test Loss: 0.004369075410068035 \n",
            "Epoch: 900 | MAE Train Loss: 0.007660275790840387 | MAE Test Loss: 0.004369075410068035 \n"
          ]
        }
      ]
    },
    {
      "cell_type": "code",
      "source": [
        "model.eval()\n",
        "with tc.inference_mode():\n",
        "    y_preds = model(x_test)\n",
        "# Visualizando os dados de treino\n",
        "plt.plot(x_test.cpu(),y_preds.cpu(),\".-\" )\n",
        "plt.plot(x_test.cpu(),y_test.cpu(),\"r--\",label=\"test\" )\n",
        "plt.show()"
      ],
      "metadata": {
        "colab": {
          "base_uri": "https://localhost:8080/",
          "height": 430
        },
        "id": "Wzn_efbQkiRf",
        "outputId": "67894bca-2c22-41b7-92a5-c35686440e23"
      },
      "execution_count": 11,
      "outputs": [
        {
          "output_type": "display_data",
          "data": {
            "text/plain": [
              "<Figure size 640x480 with 1 Axes>"
            ],
            "image/png": "[encoded data removed]"
          },
          "metadata": {}
        }
      ]
    },
    {
      "cell_type": "code",
      "source": [],
      "metadata": {
        "id": "N0XmDBfFkeGu"
      },
      "execution_count": 8,
      "outputs": []
    }
  ]
}